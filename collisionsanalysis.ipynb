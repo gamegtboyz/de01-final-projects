{
 "cells": [
  {
   "cell_type": "markdown",
   "metadata": {},
   "source": [
    "After download the data using python scripts('nyc-motor-collisions.py'), we will use this notebook to perform an analysis of the data."
   ]
  },
  {
   "cell_type": "markdown",
   "metadata": {},
   "source": [
    "### 1. Import the package and downloaded datasets onto the workspace."
   ]
  },
  {
   "cell_type": "code",
   "execution_count": 2,
   "metadata": {},
   "outputs": [],
   "source": [
    "import pandas as pd\n",
    "import numpy as np\n",
    "import seaborn as sns\n",
    "import matplotlib.pyplot as plt"
   ]
  },
  {
   "cell_type": "code",
   "execution_count": 3,
   "metadata": {},
   "outputs": [
    {
     "data": {
      "text/html": [
       "<div>\n",
       "<style scoped>\n",
       "    .dataframe tbody tr th:only-of-type {\n",
       "        vertical-align: middle;\n",
       "    }\n",
       "\n",
       "    .dataframe tbody tr th {\n",
       "        vertical-align: top;\n",
       "    }\n",
       "\n",
       "    .dataframe thead th {\n",
       "        text-align: right;\n",
       "    }\n",
       "</style>\n",
       "<table border=\"1\" class=\"dataframe\">\n",
       "  <thead>\n",
       "    <tr style=\"text-align: right;\">\n",
       "      <th></th>\n",
       "      <th>crash_date</th>\n",
       "      <th>crash_time</th>\n",
       "      <th>borough</th>\n",
       "      <th>zip_code</th>\n",
       "      <th>latitude</th>\n",
       "      <th>longitude</th>\n",
       "      <th>location</th>\n",
       "      <th>on_street_name</th>\n",
       "      <th>off_street_name</th>\n",
       "      <th>number_of_persons_injured</th>\n",
       "      <th>...</th>\n",
       "      <th>vehicle_type_code1</th>\n",
       "      <th>contributing_factor_vehicle_2</th>\n",
       "      <th>vehicle_type_code2</th>\n",
       "      <th>contributing_factor_vehicle_3</th>\n",
       "      <th>vehicle_type_code_3</th>\n",
       "      <th>contributing_factor_vehicle_4</th>\n",
       "      <th>vehicle_type_code_4</th>\n",
       "      <th>cross_street_name</th>\n",
       "      <th>contributing_factor_vehicle_5</th>\n",
       "      <th>vehicle_type_code_5</th>\n",
       "    </tr>\n",
       "  </thead>\n",
       "  <tbody>\n",
       "    <tr>\n",
       "      <th>0</th>\n",
       "      <td>2024-12-06T00:00:00.000</td>\n",
       "      <td>14:16</td>\n",
       "      <td>QUEENS</td>\n",
       "      <td>11367.0</td>\n",
       "      <td>40.742200</td>\n",
       "      <td>-73.829880</td>\n",
       "      <td>{'latitude': '40.7422', 'longitude': '-73.8298...</td>\n",
       "      <td>61 RD</td>\n",
       "      <td>136 ST</td>\n",
       "      <td>0</td>\n",
       "      <td>...</td>\n",
       "      <td>Sedan</td>\n",
       "      <td>NaN</td>\n",
       "      <td>NaN</td>\n",
       "      <td>NaN</td>\n",
       "      <td>NaN</td>\n",
       "      <td>NaN</td>\n",
       "      <td>NaN</td>\n",
       "      <td>NaN</td>\n",
       "      <td>NaN</td>\n",
       "      <td>NaN</td>\n",
       "    </tr>\n",
       "    <tr>\n",
       "      <th>1</th>\n",
       "      <td>2024-12-06T00:00:00.000</td>\n",
       "      <td>9:20</td>\n",
       "      <td>BRONX</td>\n",
       "      <td>10475.0</td>\n",
       "      <td>40.890076</td>\n",
       "      <td>-73.819850</td>\n",
       "      <td>{'latitude': '40.890076', 'longitude': '-73.81...</td>\n",
       "      <td>BOSTON RD</td>\n",
       "      <td>ROPES AVE</td>\n",
       "      <td>1</td>\n",
       "      <td>...</td>\n",
       "      <td>Sedan</td>\n",
       "      <td>Unspecified</td>\n",
       "      <td>Sedan</td>\n",
       "      <td>NaN</td>\n",
       "      <td>NaN</td>\n",
       "      <td>NaN</td>\n",
       "      <td>NaN</td>\n",
       "      <td>NaN</td>\n",
       "      <td>NaN</td>\n",
       "      <td>NaN</td>\n",
       "    </tr>\n",
       "    <tr>\n",
       "      <th>2</th>\n",
       "      <td>2024-12-06T00:00:00.000</td>\n",
       "      <td>6:10</td>\n",
       "      <td>BROOKLYN</td>\n",
       "      <td>11221.0</td>\n",
       "      <td>40.686367</td>\n",
       "      <td>-73.929750</td>\n",
       "      <td>{'latitude': '40.686367', 'longitude': '-73.92...</td>\n",
       "      <td>MALCOLM X BLVD</td>\n",
       "      <td>PUTNAM AVE</td>\n",
       "      <td>2</td>\n",
       "      <td>...</td>\n",
       "      <td>Sedan</td>\n",
       "      <td>Unspecified</td>\n",
       "      <td>Station Wagon/Sport Utility Vehicle</td>\n",
       "      <td>Unspecified</td>\n",
       "      <td>Station Wagon/Sport Utility Vehicle</td>\n",
       "      <td>NaN</td>\n",
       "      <td>NaN</td>\n",
       "      <td>NaN</td>\n",
       "      <td>NaN</td>\n",
       "      <td>NaN</td>\n",
       "    </tr>\n",
       "    <tr>\n",
       "      <th>3</th>\n",
       "      <td>2024-12-06T00:00:00.000</td>\n",
       "      <td>16:30</td>\n",
       "      <td>BROOKLYN</td>\n",
       "      <td>11214.0</td>\n",
       "      <td>40.608000</td>\n",
       "      <td>-74.001720</td>\n",
       "      <td>{'latitude': '40.608', 'longitude': '-74.00172...</td>\n",
       "      <td>18 AVE</td>\n",
       "      <td>NEW UTRECHT AVE</td>\n",
       "      <td>0</td>\n",
       "      <td>...</td>\n",
       "      <td>Sedan</td>\n",
       "      <td>Unspecified</td>\n",
       "      <td>Station Wagon/Sport Utility Vehicle</td>\n",
       "      <td>Unspecified</td>\n",
       "      <td>Station Wagon/Sport Utility Vehicle</td>\n",
       "      <td>Unspecified</td>\n",
       "      <td>Bike</td>\n",
       "      <td>NaN</td>\n",
       "      <td>NaN</td>\n",
       "      <td>NaN</td>\n",
       "    </tr>\n",
       "    <tr>\n",
       "      <th>4</th>\n",
       "      <td>2024-12-06T00:00:00.000</td>\n",
       "      <td>16:48</td>\n",
       "      <td>QUEENS</td>\n",
       "      <td>11421.0</td>\n",
       "      <td>40.697560</td>\n",
       "      <td>-73.852745</td>\n",
       "      <td>{'latitude': '40.69756', 'longitude': '-73.852...</td>\n",
       "      <td>WOODHAVEN BLVD</td>\n",
       "      <td>PARK LN S</td>\n",
       "      <td>1</td>\n",
       "      <td>...</td>\n",
       "      <td>E-Bike</td>\n",
       "      <td>Unspecified</td>\n",
       "      <td>Station Wagon/Sport Utility Vehicle</td>\n",
       "      <td>NaN</td>\n",
       "      <td>NaN</td>\n",
       "      <td>NaN</td>\n",
       "      <td>NaN</td>\n",
       "      <td>NaN</td>\n",
       "      <td>NaN</td>\n",
       "      <td>NaN</td>\n",
       "    </tr>\n",
       "  </tbody>\n",
       "</table>\n",
       "<p>5 rows × 29 columns</p>\n",
       "</div>"
      ],
      "text/plain": [
       "                crash_date crash_time   borough  zip_code   latitude  \\\n",
       "0  2024-12-06T00:00:00.000      14:16    QUEENS   11367.0  40.742200   \n",
       "1  2024-12-06T00:00:00.000       9:20     BRONX   10475.0  40.890076   \n",
       "2  2024-12-06T00:00:00.000       6:10  BROOKLYN   11221.0  40.686367   \n",
       "3  2024-12-06T00:00:00.000      16:30  BROOKLYN   11214.0  40.608000   \n",
       "4  2024-12-06T00:00:00.000      16:48    QUEENS   11421.0  40.697560   \n",
       "\n",
       "   longitude                                           location  \\\n",
       "0 -73.829880  {'latitude': '40.7422', 'longitude': '-73.8298...   \n",
       "1 -73.819850  {'latitude': '40.890076', 'longitude': '-73.81...   \n",
       "2 -73.929750  {'latitude': '40.686367', 'longitude': '-73.92...   \n",
       "3 -74.001720  {'latitude': '40.608', 'longitude': '-74.00172...   \n",
       "4 -73.852745  {'latitude': '40.69756', 'longitude': '-73.852...   \n",
       "\n",
       "   on_street_name  off_street_name  number_of_persons_injured  ...  \\\n",
       "0           61 RD           136 ST                          0  ...   \n",
       "1       BOSTON RD        ROPES AVE                          1  ...   \n",
       "2  MALCOLM X BLVD       PUTNAM AVE                          2  ...   \n",
       "3          18 AVE  NEW UTRECHT AVE                          0  ...   \n",
       "4  WOODHAVEN BLVD        PARK LN S                          1  ...   \n",
       "\n",
       "   vehicle_type_code1  contributing_factor_vehicle_2  \\\n",
       "0               Sedan                            NaN   \n",
       "1               Sedan                    Unspecified   \n",
       "2               Sedan                    Unspecified   \n",
       "3               Sedan                    Unspecified   \n",
       "4              E-Bike                    Unspecified   \n",
       "\n",
       "                    vehicle_type_code2  contributing_factor_vehicle_3  \\\n",
       "0                                  NaN                            NaN   \n",
       "1                                Sedan                            NaN   \n",
       "2  Station Wagon/Sport Utility Vehicle                    Unspecified   \n",
       "3  Station Wagon/Sport Utility Vehicle                    Unspecified   \n",
       "4  Station Wagon/Sport Utility Vehicle                            NaN   \n",
       "\n",
       "                   vehicle_type_code_3  contributing_factor_vehicle_4  \\\n",
       "0                                  NaN                            NaN   \n",
       "1                                  NaN                            NaN   \n",
       "2  Station Wagon/Sport Utility Vehicle                            NaN   \n",
       "3  Station Wagon/Sport Utility Vehicle                    Unspecified   \n",
       "4                                  NaN                            NaN   \n",
       "\n",
       "   vehicle_type_code_4 cross_street_name  contributing_factor_vehicle_5  \\\n",
       "0                  NaN               NaN                            NaN   \n",
       "1                  NaN               NaN                            NaN   \n",
       "2                  NaN               NaN                            NaN   \n",
       "3                 Bike               NaN                            NaN   \n",
       "4                  NaN               NaN                            NaN   \n",
       "\n",
       "  vehicle_type_code_5  \n",
       "0                 NaN  \n",
       "1                 NaN  \n",
       "2                 NaN  \n",
       "3                 NaN  \n",
       "4                 NaN  \n",
       "\n",
       "[5 rows x 29 columns]"
      ]
     },
     "execution_count": 3,
     "metadata": {},
     "output_type": "execute_result"
    }
   ],
   "source": [
    "data = pd.read_csv('nyc-collisions.csv')\n",
    "data.head()"
   ]
  },
  {
   "cell_type": "code",
   "execution_count": 4,
   "metadata": {},
   "outputs": [],
   "source": [
    "# since 'location' column contains the dictionary of location whcih is already stated in other columns, we will remove it from our dataframe for more memory-efficient of work.\n",
    "data.drop(['location'],axis=1,inplace=True)"
   ]
  },
  {
   "cell_type": "code",
   "execution_count": 5,
   "metadata": {},
   "outputs": [
    {
     "data": {
      "text/plain": [
       "(285147, 28)"
      ]
     },
     "execution_count": 5,
     "metadata": {},
     "output_type": "execute_result"
    }
   ],
   "source": [
    "data.shape"
   ]
  },
  {
   "cell_type": "code",
   "execution_count": 6,
   "metadata": {},
   "outputs": [
    {
     "name": "stdout",
     "output_type": "stream",
     "text": [
      "<class 'pandas.core.frame.DataFrame'>\n",
      "RangeIndex: 285147 entries, 0 to 285146\n",
      "Data columns (total 28 columns):\n",
      " #   Column                         Non-Null Count   Dtype  \n",
      "---  ------                         --------------   -----  \n",
      " 0   crash_date                     285147 non-null  object \n",
      " 1   crash_time                     285147 non-null  object \n",
      " 2   borough                        194413 non-null  object \n",
      " 3   zip_code                       194375 non-null  float64\n",
      " 4   latitude                       261913 non-null  float64\n",
      " 5   longitude                      261913 non-null  float64\n",
      " 6   on_street_name                 206109 non-null  object \n",
      " 7   off_street_name                138711 non-null  object \n",
      " 8   number_of_persons_injured      285147 non-null  int64  \n",
      " 9   number_of_persons_killed       285147 non-null  int64  \n",
      " 10  number_of_pedestrians_injured  285147 non-null  int64  \n",
      " 11  number_of_pedestrians_killed   285147 non-null  int64  \n",
      " 12  number_of_cyclist_injured      285147 non-null  int64  \n",
      " 13  number_of_cyclist_killed       285147 non-null  int64  \n",
      " 14  number_of_motorist_injured     285147 non-null  int64  \n",
      " 15  number_of_motorist_killed      285147 non-null  int64  \n",
      " 16  contributing_factor_vehicle_1  283295 non-null  object \n",
      " 17  collision_id                   285147 non-null  int64  \n",
      " 18  vehicle_type_code1             280705 non-null  object \n",
      " 19  contributing_factor_vehicle_2  218503 non-null  object \n",
      " 20  vehicle_type_code2             189090 non-null  object \n",
      " 21  contributing_factor_vehicle_3  26434 non-null   object \n",
      " 22  vehicle_type_code_3            24510 non-null   object \n",
      " 23  contributing_factor_vehicle_4  7043 non-null    object \n",
      " 24  vehicle_type_code_4            6636 non-null    object \n",
      " 25  cross_street_name              79035 non-null   object \n",
      " 26  contributing_factor_vehicle_5  2114 non-null    object \n",
      " 27  vehicle_type_code_5            2023 non-null    object \n",
      "dtypes: float64(3), int64(9), object(16)\n",
      "memory usage: 60.9+ MB\n"
     ]
    }
   ],
   "source": [
    "data.info()"
   ]
  },
  {
   "cell_type": "code",
   "execution_count": 27,
   "metadata": {},
   "outputs": [
    {
     "data": {
      "text/plain": [
       "crash_date                            0\n",
       "crash_time                            0\n",
       "borough                           90734\n",
       "zip_code                          90772\n",
       "latitude                          23234\n",
       "longitude                         23234\n",
       "on_street_name                    79038\n",
       "off_street_name                  146436\n",
       "number_of_persons_injured             0\n",
       "number_of_persons_killed              0\n",
       "number_of_pedestrians_injured         0\n",
       "number_of_pedestrians_killed          0\n",
       "number_of_cyclist_injured             0\n",
       "number_of_cyclist_killed              0\n",
       "number_of_motorist_injured            0\n",
       "number_of_motorist_killed             0\n",
       "contributing_factor_vehicle_1      1852\n",
       "collision_id                          0\n",
       "vehicle_type_code1                 4442\n",
       "contributing_factor_vehicle_2     66644\n",
       "vehicle_type_code2                96057\n",
       "contributing_factor_vehicle_3    258713\n",
       "vehicle_type_code_3              260637\n",
       "contributing_factor_vehicle_4    278104\n",
       "vehicle_type_code_4              278511\n",
       "cross_street_name                206112\n",
       "contributing_factor_vehicle_5    283033\n",
       "vehicle_type_code_5              283124\n",
       "dtype: int64"
      ]
     },
     "execution_count": 27,
     "metadata": {},
     "output_type": "execute_result"
    }
   ],
   "source": [
    "data.isnull().sum()"
   ]
  },
  {
   "cell_type": "markdown",
   "metadata": {},
   "source": [
    "### 2. Exploratory Data Analysis"
   ]
  },
  {
   "cell_type": "code",
   "execution_count": 7,
   "metadata": {},
   "outputs": [],
   "source": [
    "# find out the common cuase for vehicle collision\n",
    "# concatenate the collision cause into one place\n",
    "collisioncause = pd.concat([\n",
    "    data['contributing_factor_vehicle_1'],\n",
    "    data['contributing_factor_vehicle_2'],\n",
    "    data['contributing_factor_vehicle_3'],\n",
    "    data['contributing_factor_vehicle_4'],\n",
    "    data['contributing_factor_vehicle_5']\n",
    "], axis=0, ignore_index=True) "
   ]
  },
  {
   "cell_type": "code",
   "execution_count": 25,
   "metadata": {},
   "outputs": [
    {
     "data": {
      "text/plain": [
       "array(['Driver Inattention/Distraction', 'Aggressive Driving/Road Rage',\n",
       "       'Traffic Control Disregarded', 'Alcohol Involvement',\n",
       "       'Pedestrian/Bicyclist/Other Pedestrian Error/Confusion',\n",
       "       'Following Too Closely', 'Turning Improperly', 'Oversized Vehicle',\n",
       "       'Failure to Yield Right-of-Way', 'Physical Disability',\n",
       "       'Other Vehicular', 'Unsafe Speed', 'Driver Inexperience',\n",
       "       'Cell Phone (hand-Held)', 'View Obstructed/Limited',\n",
       "       'Passing Too Closely', 'Unsafe Lane Changing', nan,\n",
       "       'Pavement Slippery', 'Steering Failure', 'Backing Unsafely',\n",
       "       'Fell Asleep', 'Reaction to Uninvolved Vehicle',\n",
       "       'Passing or Lane Usage Improper', 'Glare', 'Brakes Defective',\n",
       "       'Driverless/Runaway Vehicle', 'Lost Consciousness',\n",
       "       'Fatigued/Drowsy', 'Obstruction/Debris', 'Passenger Distraction',\n",
       "       'Outside Car Distraction', 'Illnes', 'Accelerator Defective',\n",
       "       'Tire Failure/Inadequate', 'Using On Board Navigation Device',\n",
       "       'Animals Action', 'Windshield Inadequate',\n",
       "       'Lane Marking Improper/Inadequate', 'Failure to Keep Right',\n",
       "       'Headlights Defective', 'Drugs (illegal)',\n",
       "       'Traffic Control Device Improper/Non-Working',\n",
       "       'Eating or Drinking', 'Other Lighting Defects',\n",
       "       'Pavement Defective', 'Cell Phone (hands-free)',\n",
       "       'Listening/Using Headphones', 'Tow Hitch Defective',\n",
       "       'Prescription Medication', 'Vehicle Vandalism', 'Tinted Windows',\n",
       "       'Other Electronic Device', 'Shoulders Defective/Improper',\n",
       "       'Texting'], dtype=object)"
      ]
     },
     "execution_count": 25,
     "metadata": {},
     "output_type": "execute_result"
    }
   ],
   "source": [
    "collisioncause.unique()"
   ]
  },
  {
   "cell_type": "code",
   "execution_count": 19,
   "metadata": {},
   "outputs": [],
   "source": [
    "# filter the values\n",
    "collisioncause = collisioncause[collisioncause != 'Unspecified']"
   ]
  },
  {
   "cell_type": "code",
   "execution_count": null,
   "metadata": {},
   "outputs": [
    {
     "data": {
      "text/plain": [
       "Driver Inattention/Distraction                           83556\n",
       "Following Too Closely                                    21842\n",
       "Failure to Yield Right-of-Way                            21747\n",
       "Passing or Lane Usage Improper                           14664\n",
       "Unsafe Speed                                             12329\n",
       "Other Vehicular                                          12260\n",
       "Passing Too Closely                                      11224\n",
       "Traffic Control Disregarded                               9681\n",
       "Backing Unsafely                                          9124\n",
       "Turning Improperly                                        7332\n",
       "Driver Inexperience                                       6733\n",
       "Unsafe Lane Changing                                      6625\n",
       "Alcohol Involvement                                       5460\n",
       "Pedestrian/Bicyclist/Other Pedestrian Error/Confusion     3914\n",
       "Reaction to Uninvolved Vehicle                            3902\n",
       "View Obstructed/Limited                                   3162\n",
       "Aggressive Driving/Road Rage                              2773\n",
       "Pavement Slippery                                         2431\n",
       "Oversized Vehicle                                         1381\n",
       "Fell Asleep                                               1348\n",
       "Brakes Defective                                          1178\n",
       "Passenger Distraction                                      900\n",
       "Outside Car Distraction                                    758\n",
       "Obstruction/Debris                                         697\n",
       "Steering Failure                                           618\n",
       "Lost Consciousness                                         590\n",
       "Glare                                                      516\n",
       "Illnes                                                     508\n",
       "Tire Failure/Inadequate                                    502\n",
       "Failure to Keep Right                                      382\n",
       "Driverless/Runaway Vehicle                                 329\n",
       "Fatigued/Drowsy                                            311\n",
       "Pavement Defective                                         309\n",
       "Animals Action                                             244\n",
       "Drugs (illegal)                                            238\n",
       "Accelerator Defective                                      190\n",
       "Traffic Control Device Improper/Non-Working                172\n",
       "Lane Marking Improper/Inadequate                           160\n",
       "Cell Phone (hand-Held)                                     142\n",
       "Physical Disability                                        120\n",
       "Tinted Windows                                              74\n",
       "Prescription Medication                                     46\n",
       "Other Lighting Defects                                      44\n",
       "Tow Hitch Defective                                         42\n",
       "Headlights Defective                                        41\n",
       "Vehicle Vandalism                                           39\n",
       "Eating or Drinking                                          32\n",
       "Using On Board Navigation Device                            29\n",
       "Other Electronic Device                                     24\n",
       "Cell Phone (hands-free)                                     14\n",
       "Windshield Inadequate                                       11\n",
       "Shoulders Defective/Improper                                11\n",
       "Listening/Using Headphones                                  10\n",
       "Texting                                                     10\n",
       "Name: count, dtype: int64"
      ]
     },
     "execution_count": 21,
     "metadata": {},
     "output_type": "execute_result"
    }
   ],
   "source": [
    "collisioncause.value_counts()"
   ]
  },
  {
   "cell_type": "code",
   "execution_count": 23,
   "metadata": {},
   "outputs": [],
   "source": [
    "# then, we will find out the most common vehicle type to be collided.\n",
    "collisionvehicle = pd.concat([\n",
    "    data['vehicle_type_code1'],\n",
    "    data['vehicle_type_code2'],\n",
    "    data['vehicle_type_code_3'],\n",
    "    data['vehicle_type_code_4'],\n",
    "    data['vehicle_type_code_5']\n",
    "], axis=0, ignore_index=True) "
   ]
  },
  {
   "cell_type": "code",
   "execution_count": 26,
   "metadata": {},
   "outputs": [
    {
     "data": {
      "text/plain": [
       "Sedan                                  222738\n",
       "Station Wagon/Sport Utility Vehicle    169601\n",
       "Bike                                    16207\n",
       "Pick-up Truck                           12465\n",
       "Taxi                                    11408\n",
       "                                        ...  \n",
       "vAN                                         1\n",
       "u haul                                      1\n",
       "HURSE                                       1\n",
       "FDNY285 En                                  1\n",
       "SALTSPREAD                                  1\n",
       "Name: count, Length: 1257, dtype: int64"
      ]
     },
     "execution_count": 26,
     "metadata": {},
     "output_type": "execute_result"
    }
   ],
   "source": [
    "collisionvehicle.value_counts()"
   ]
  },
  {
   "cell_type": "code",
   "execution_count": 35,
   "metadata": {},
   "outputs": [
    {
     "data": {
      "text/plain": [
       "vehicle_type_code1                   contributing_factor_vehicle_1 \n",
       "Sedan                                Unspecified                       34218\n",
       "                                     Driver Inattention/Distraction    31755\n",
       "Station Wagon/Sport Utility Vehicle  Driver Inattention/Distraction    25064\n",
       "                                     Unspecified                       22987\n",
       "Sedan                                Failure to Yield Right-of-Way      8161\n",
       "                                                                       ...  \n",
       "truck                                Reaction to Uninvolved Vehicle        1\n",
       "                                     Turning Improperly                    1\n",
       "unk                                  Unsafe Speed                          1\n",
       "                                     Unspecified                           1\n",
       "us postal                            Other Vehicular                       1\n",
       "Name: collision_id, Length: 2577, dtype: int64"
      ]
     },
     "execution_count": 35,
     "metadata": {},
     "output_type": "execute_result"
    }
   ],
   "source": [
    "# find out the most common collision cause by vehicle type\n",
    "data.groupby(['vehicle_type_code1','contributing_factor_vehicle_1'])['collision_id'].count().sort_values(ascending=False)"
   ]
  },
  {
   "cell_type": "code",
   "execution_count": 36,
   "metadata": {},
   "outputs": [
    {
     "data": {
      "text/plain": [
       "borough\n",
       "BROOKLYN         67197\n",
       "QUEENS           52663\n",
       "MANHATTAN        34650\n",
       "BRONX            32000\n",
       "STATEN ISLAND     7903\n",
       "Name: count, dtype: int64"
      ]
     },
     "execution_count": 36,
     "metadata": {},
     "output_type": "execute_result"
    }
   ],
   "source": [
    "# find out the most frequent collision site (site is defined by borough)\n",
    "data['borough'].value_counts()"
   ]
  },
  {
   "cell_type": "code",
   "execution_count": 44,
   "metadata": {},
   "outputs": [
    {
     "data": {
      "text/plain": [
       "vehicle_type_code1\n",
       ".              1\n",
       "0000           1\n",
       "10 Paaseng     1\n",
       "100th truc     1\n",
       "13             1\n",
       "              ..\n",
       "van           54\n",
       "van truck      1\n",
       "wag            1\n",
       "wagon          2\n",
       "ХР06           1\n",
       "Name: collision_id, Length: 732, dtype: int64"
      ]
     },
     "execution_count": 44,
     "metadata": {},
     "output_type": "execute_result"
    }
   ],
   "source": [
    "# which type of vehicle is the safest type\n",
    "data.groupby(['vehicle_type_code1'])['collision_id'].count()"
   ]
  }
 ],
 "metadata": {
  "kernelspec": {
   "display_name": "Python 3",
   "language": "python",
   "name": "python3"
  },
  "language_info": {
   "codemirror_mode": {
    "name": "ipython",
    "version": 3
   },
   "file_extension": ".py",
   "mimetype": "text/x-python",
   "name": "python",
   "nbconvert_exporter": "python",
   "pygments_lexer": "ipython3",
   "version": "3.13.0"
  }
 },
 "nbformat": 4,
 "nbformat_minor": 2
}
